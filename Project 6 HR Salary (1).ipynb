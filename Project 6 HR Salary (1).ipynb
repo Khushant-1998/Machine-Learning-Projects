{
 "cells": [
  {
   "cell_type": "code",
   "execution_count": 1,
   "metadata": {},
   "outputs": [],
   "source": [
    "import pandas as pd\n",
    "import numpy as np\n",
    "import matplotlib.pyplot as plt\n",
    "from sklearn import model_selection\n",
    "from sklearn.linear_model import Ridge, RidgeCV, Lasso, LassoCV\n",
    "from sklearn.metrics import mean_squared_error\n",
    "from sklearn.preprocessing import StandardScaler"
   ]
  },
  {
   "cell_type": "code",
   "execution_count": 2,
   "metadata": {},
   "outputs": [],
   "source": [
    "playerdf = pd.read_csv('Player.csv', index_col=0)"
   ]
  },
  {
   "cell_type": "code",
   "execution_count": 3,
   "metadata": {},
   "outputs": [
    {
     "data": {
      "text/html": [
       "<div>\n",
       "<style scoped>\n",
       "    .dataframe tbody tr th:only-of-type {\n",
       "        vertical-align: middle;\n",
       "    }\n",
       "\n",
       "    .dataframe tbody tr th {\n",
       "        vertical-align: top;\n",
       "    }\n",
       "\n",
       "    .dataframe thead th {\n",
       "        text-align: right;\n",
       "    }\n",
       "</style>\n",
       "<table border=\"1\" class=\"dataframe\">\n",
       "  <thead>\n",
       "    <tr style=\"text-align: right;\">\n",
       "      <th></th>\n",
       "      <th>AtBat</th>\n",
       "      <th>Hits</th>\n",
       "      <th>HmRun</th>\n",
       "      <th>Runs</th>\n",
       "      <th>RBI</th>\n",
       "      <th>Walks</th>\n",
       "      <th>Years</th>\n",
       "      <th>CAtBat</th>\n",
       "      <th>CHits</th>\n",
       "      <th>CHmRun</th>\n",
       "      <th>CRuns</th>\n",
       "      <th>CRBI</th>\n",
       "      <th>CWalks</th>\n",
       "      <th>League</th>\n",
       "      <th>Division</th>\n",
       "      <th>PutOuts</th>\n",
       "      <th>Assists</th>\n",
       "      <th>Errors</th>\n",
       "      <th>Salary</th>\n",
       "      <th>NewLeague</th>\n",
       "    </tr>\n",
       "  </thead>\n",
       "  <tbody>\n",
       "    <tr>\n",
       "      <th>-Andy Allanson</th>\n",
       "      <td>293</td>\n",
       "      <td>66</td>\n",
       "      <td>1</td>\n",
       "      <td>30</td>\n",
       "      <td>29</td>\n",
       "      <td>14</td>\n",
       "      <td>1</td>\n",
       "      <td>293</td>\n",
       "      <td>66</td>\n",
       "      <td>1</td>\n",
       "      <td>30</td>\n",
       "      <td>29</td>\n",
       "      <td>14</td>\n",
       "      <td>A</td>\n",
       "      <td>E</td>\n",
       "      <td>446</td>\n",
       "      <td>33</td>\n",
       "      <td>20</td>\n",
       "      <td>NaN</td>\n",
       "      <td>A</td>\n",
       "    </tr>\n",
       "    <tr>\n",
       "      <th>-Alan Ashby</th>\n",
       "      <td>315</td>\n",
       "      <td>81</td>\n",
       "      <td>7</td>\n",
       "      <td>24</td>\n",
       "      <td>38</td>\n",
       "      <td>39</td>\n",
       "      <td>14</td>\n",
       "      <td>3449</td>\n",
       "      <td>835</td>\n",
       "      <td>69</td>\n",
       "      <td>321</td>\n",
       "      <td>414</td>\n",
       "      <td>375</td>\n",
       "      <td>N</td>\n",
       "      <td>W</td>\n",
       "      <td>632</td>\n",
       "      <td>43</td>\n",
       "      <td>10</td>\n",
       "      <td>475.0</td>\n",
       "      <td>N</td>\n",
       "    </tr>\n",
       "    <tr>\n",
       "      <th>-Alvin Davis</th>\n",
       "      <td>479</td>\n",
       "      <td>130</td>\n",
       "      <td>18</td>\n",
       "      <td>66</td>\n",
       "      <td>72</td>\n",
       "      <td>76</td>\n",
       "      <td>3</td>\n",
       "      <td>1624</td>\n",
       "      <td>457</td>\n",
       "      <td>63</td>\n",
       "      <td>224</td>\n",
       "      <td>266</td>\n",
       "      <td>263</td>\n",
       "      <td>A</td>\n",
       "      <td>W</td>\n",
       "      <td>880</td>\n",
       "      <td>82</td>\n",
       "      <td>14</td>\n",
       "      <td>480.0</td>\n",
       "      <td>A</td>\n",
       "    </tr>\n",
       "    <tr>\n",
       "      <th>-Andre Dawson</th>\n",
       "      <td>496</td>\n",
       "      <td>141</td>\n",
       "      <td>20</td>\n",
       "      <td>65</td>\n",
       "      <td>78</td>\n",
       "      <td>37</td>\n",
       "      <td>11</td>\n",
       "      <td>5628</td>\n",
       "      <td>1575</td>\n",
       "      <td>225</td>\n",
       "      <td>828</td>\n",
       "      <td>838</td>\n",
       "      <td>354</td>\n",
       "      <td>N</td>\n",
       "      <td>E</td>\n",
       "      <td>200</td>\n",
       "      <td>11</td>\n",
       "      <td>3</td>\n",
       "      <td>500.0</td>\n",
       "      <td>N</td>\n",
       "    </tr>\n",
       "    <tr>\n",
       "      <th>-Andres Galarraga</th>\n",
       "      <td>321</td>\n",
       "      <td>87</td>\n",
       "      <td>10</td>\n",
       "      <td>39</td>\n",
       "      <td>42</td>\n",
       "      <td>30</td>\n",
       "      <td>2</td>\n",
       "      <td>396</td>\n",
       "      <td>101</td>\n",
       "      <td>12</td>\n",
       "      <td>48</td>\n",
       "      <td>46</td>\n",
       "      <td>33</td>\n",
       "      <td>N</td>\n",
       "      <td>E</td>\n",
       "      <td>805</td>\n",
       "      <td>40</td>\n",
       "      <td>4</td>\n",
       "      <td>91.5</td>\n",
       "      <td>N</td>\n",
       "    </tr>\n",
       "  </tbody>\n",
       "</table>\n",
       "</div>"
      ],
      "text/plain": [
       "                   AtBat  Hits  HmRun  Runs  RBI  Walks  Years  CAtBat  CHits  \\\n",
       "-Andy Allanson       293    66      1    30   29     14      1     293     66   \n",
       "-Alan Ashby          315    81      7    24   38     39     14    3449    835   \n",
       "-Alvin Davis         479   130     18    66   72     76      3    1624    457   \n",
       "-Andre Dawson        496   141     20    65   78     37     11    5628   1575   \n",
       "-Andres Galarraga    321    87     10    39   42     30      2     396    101   \n",
       "\n",
       "                   CHmRun  CRuns  CRBI  CWalks League Division  PutOuts  \\\n",
       "-Andy Allanson          1     30    29      14      A        E      446   \n",
       "-Alan Ashby            69    321   414     375      N        W      632   \n",
       "-Alvin Davis           63    224   266     263      A        W      880   \n",
       "-Andre Dawson         225    828   838     354      N        E      200   \n",
       "-Andres Galarraga      12     48    46      33      N        E      805   \n",
       "\n",
       "                   Assists  Errors  Salary NewLeague  \n",
       "-Andy Allanson          33      20     NaN         A  \n",
       "-Alan Ashby             43      10   475.0         N  \n",
       "-Alvin Davis            82      14   480.0         A  \n",
       "-Andre Dawson           11       3   500.0         N  \n",
       "-Andres Galarraga       40       4    91.5         N  "
      ]
     },
     "execution_count": 3,
     "metadata": {},
     "output_type": "execute_result"
    }
   ],
   "source": [
    "playerdf.head()"
   ]
  },
  {
   "cell_type": "code",
   "execution_count": 4,
   "metadata": {},
   "outputs": [
    {
     "data": {
      "text/plain": [
       "(322, 20)"
      ]
     },
     "execution_count": 4,
     "metadata": {},
     "output_type": "execute_result"
    }
   ],
   "source": [
    "playerdf.shape "
   ]
  },
  {
   "cell_type": "code",
   "execution_count": 5,
   "metadata": {},
   "outputs": [
    {
     "name": "stdout",
     "output_type": "stream",
     "text": [
      "<class 'pandas.core.frame.DataFrame'>\n",
      "Index: 322 entries, -Andy Allanson to -Willie Wilson\n",
      "Data columns (total 20 columns):\n",
      " #   Column     Non-Null Count  Dtype  \n",
      "---  ------     --------------  -----  \n",
      " 0   AtBat      322 non-null    int64  \n",
      " 1   Hits       322 non-null    int64  \n",
      " 2   HmRun      322 non-null    int64  \n",
      " 3   Runs       322 non-null    int64  \n",
      " 4   RBI        322 non-null    int64  \n",
      " 5   Walks      322 non-null    int64  \n",
      " 6   Years      322 non-null    int64  \n",
      " 7   CAtBat     322 non-null    int64  \n",
      " 8   CHits      322 non-null    int64  \n",
      " 9   CHmRun     322 non-null    int64  \n",
      " 10  CRuns      322 non-null    int64  \n",
      " 11  CRBI       322 non-null    int64  \n",
      " 12  CWalks     322 non-null    int64  \n",
      " 13  League     322 non-null    object \n",
      " 14  Division   322 non-null    object \n",
      " 15  PutOuts    322 non-null    int64  \n",
      " 16  Assists    322 non-null    int64  \n",
      " 17  Errors     322 non-null    int64  \n",
      " 18  Salary     263 non-null    float64\n",
      " 19  NewLeague  322 non-null    object \n",
      "dtypes: float64(1), int64(16), object(3)\n",
      "memory usage: 52.8+ KB\n"
     ]
    }
   ],
   "source": [
    "playerdf.info()"
   ]
  },
  {
   "cell_type": "code",
   "execution_count": 6,
   "metadata": {},
   "outputs": [
    {
     "data": {
      "text/plain": [
       "AtBat         0\n",
       "Hits          0\n",
       "HmRun         0\n",
       "Runs          0\n",
       "RBI           0\n",
       "Walks         0\n",
       "Years         0\n",
       "CAtBat        0\n",
       "CHits         0\n",
       "CHmRun        0\n",
       "CRuns         0\n",
       "CRBI          0\n",
       "CWalks        0\n",
       "League        0\n",
       "Division      0\n",
       "PutOuts       0\n",
       "Assists       0\n",
       "Errors        0\n",
       "Salary       59\n",
       "NewLeague     0\n",
       "dtype: int64"
      ]
     },
     "execution_count": 6,
     "metadata": {},
     "output_type": "execute_result"
    }
   ],
   "source": [
    "playerdf.isnull().sum()"
   ]
  },
  {
   "cell_type": "code",
   "execution_count": 7,
   "metadata": {},
   "outputs": [
    {
     "data": {
      "text/plain": [
       "(263, 20)"
      ]
     },
     "execution_count": 7,
     "metadata": {},
     "output_type": "execute_result"
    }
   ],
   "source": [
    "playerdf.dropna(inplace=True)\n",
    "playerdf.shape"
   ]
  },
  {
   "cell_type": "code",
   "execution_count": 8,
   "metadata": {},
   "outputs": [
    {
     "data": {
      "text/html": [
       "<div>\n",
       "<style scoped>\n",
       "    .dataframe tbody tr th:only-of-type {\n",
       "        vertical-align: middle;\n",
       "    }\n",
       "\n",
       "    .dataframe tbody tr th {\n",
       "        vertical-align: top;\n",
       "    }\n",
       "\n",
       "    .dataframe thead th {\n",
       "        text-align: right;\n",
       "    }\n",
       "</style>\n",
       "<table border=\"1\" class=\"dataframe\">\n",
       "  <thead>\n",
       "    <tr style=\"text-align: right;\">\n",
       "      <th></th>\n",
       "      <th>AtBat</th>\n",
       "      <th>Hits</th>\n",
       "      <th>HmRun</th>\n",
       "      <th>Runs</th>\n",
       "      <th>RBI</th>\n",
       "      <th>Walks</th>\n",
       "      <th>Years</th>\n",
       "      <th>CAtBat</th>\n",
       "      <th>CHits</th>\n",
       "      <th>CHmRun</th>\n",
       "      <th>CRuns</th>\n",
       "      <th>CRBI</th>\n",
       "      <th>CWalks</th>\n",
       "      <th>PutOuts</th>\n",
       "      <th>Assists</th>\n",
       "      <th>Errors</th>\n",
       "      <th>Salary</th>\n",
       "    </tr>\n",
       "  </thead>\n",
       "  <tbody>\n",
       "    <tr>\n",
       "      <th>count</th>\n",
       "      <td>263.00</td>\n",
       "      <td>263.00</td>\n",
       "      <td>263.00</td>\n",
       "      <td>263.00</td>\n",
       "      <td>263.00</td>\n",
       "      <td>263.00</td>\n",
       "      <td>263.00</td>\n",
       "      <td>263.00</td>\n",
       "      <td>263.00</td>\n",
       "      <td>263.00</td>\n",
       "      <td>263.00</td>\n",
       "      <td>263.00</td>\n",
       "      <td>263.00</td>\n",
       "      <td>263.00</td>\n",
       "      <td>263.00</td>\n",
       "      <td>263.00</td>\n",
       "      <td>263.00</td>\n",
       "    </tr>\n",
       "    <tr>\n",
       "      <th>mean</th>\n",
       "      <td>403.64</td>\n",
       "      <td>107.83</td>\n",
       "      <td>11.62</td>\n",
       "      <td>54.75</td>\n",
       "      <td>51.49</td>\n",
       "      <td>41.11</td>\n",
       "      <td>7.31</td>\n",
       "      <td>2657.54</td>\n",
       "      <td>722.19</td>\n",
       "      <td>69.24</td>\n",
       "      <td>361.22</td>\n",
       "      <td>330.42</td>\n",
       "      <td>260.27</td>\n",
       "      <td>290.71</td>\n",
       "      <td>118.76</td>\n",
       "      <td>8.59</td>\n",
       "      <td>535.93</td>\n",
       "    </tr>\n",
       "    <tr>\n",
       "      <th>std</th>\n",
       "      <td>147.31</td>\n",
       "      <td>45.13</td>\n",
       "      <td>8.76</td>\n",
       "      <td>25.54</td>\n",
       "      <td>25.88</td>\n",
       "      <td>21.72</td>\n",
       "      <td>4.79</td>\n",
       "      <td>2286.58</td>\n",
       "      <td>648.20</td>\n",
       "      <td>82.20</td>\n",
       "      <td>331.20</td>\n",
       "      <td>323.37</td>\n",
       "      <td>264.06</td>\n",
       "      <td>279.93</td>\n",
       "      <td>145.08</td>\n",
       "      <td>6.61</td>\n",
       "      <td>451.12</td>\n",
       "    </tr>\n",
       "    <tr>\n",
       "      <th>min</th>\n",
       "      <td>19.00</td>\n",
       "      <td>1.00</td>\n",
       "      <td>0.00</td>\n",
       "      <td>0.00</td>\n",
       "      <td>0.00</td>\n",
       "      <td>0.00</td>\n",
       "      <td>1.00</td>\n",
       "      <td>19.00</td>\n",
       "      <td>4.00</td>\n",
       "      <td>0.00</td>\n",
       "      <td>2.00</td>\n",
       "      <td>3.00</td>\n",
       "      <td>1.00</td>\n",
       "      <td>0.00</td>\n",
       "      <td>0.00</td>\n",
       "      <td>0.00</td>\n",
       "      <td>67.50</td>\n",
       "    </tr>\n",
       "    <tr>\n",
       "      <th>25%</th>\n",
       "      <td>282.50</td>\n",
       "      <td>71.50</td>\n",
       "      <td>5.00</td>\n",
       "      <td>33.50</td>\n",
       "      <td>30.00</td>\n",
       "      <td>23.00</td>\n",
       "      <td>4.00</td>\n",
       "      <td>842.50</td>\n",
       "      <td>212.00</td>\n",
       "      <td>15.00</td>\n",
       "      <td>105.50</td>\n",
       "      <td>95.00</td>\n",
       "      <td>71.00</td>\n",
       "      <td>113.50</td>\n",
       "      <td>8.00</td>\n",
       "      <td>3.00</td>\n",
       "      <td>190.00</td>\n",
       "    </tr>\n",
       "    <tr>\n",
       "      <th>50%</th>\n",
       "      <td>413.00</td>\n",
       "      <td>103.00</td>\n",
       "      <td>9.00</td>\n",
       "      <td>52.00</td>\n",
       "      <td>47.00</td>\n",
       "      <td>37.00</td>\n",
       "      <td>6.00</td>\n",
       "      <td>1931.00</td>\n",
       "      <td>516.00</td>\n",
       "      <td>40.00</td>\n",
       "      <td>250.00</td>\n",
       "      <td>230.00</td>\n",
       "      <td>174.00</td>\n",
       "      <td>224.00</td>\n",
       "      <td>45.00</td>\n",
       "      <td>7.00</td>\n",
       "      <td>425.00</td>\n",
       "    </tr>\n",
       "    <tr>\n",
       "      <th>75%</th>\n",
       "      <td>526.00</td>\n",
       "      <td>141.50</td>\n",
       "      <td>18.00</td>\n",
       "      <td>73.00</td>\n",
       "      <td>71.00</td>\n",
       "      <td>57.00</td>\n",
       "      <td>10.00</td>\n",
       "      <td>3890.50</td>\n",
       "      <td>1054.00</td>\n",
       "      <td>92.50</td>\n",
       "      <td>497.50</td>\n",
       "      <td>424.50</td>\n",
       "      <td>328.50</td>\n",
       "      <td>322.50</td>\n",
       "      <td>192.00</td>\n",
       "      <td>13.00</td>\n",
       "      <td>750.00</td>\n",
       "    </tr>\n",
       "    <tr>\n",
       "      <th>max</th>\n",
       "      <td>687.00</td>\n",
       "      <td>238.00</td>\n",
       "      <td>40.00</td>\n",
       "      <td>130.00</td>\n",
       "      <td>121.00</td>\n",
       "      <td>105.00</td>\n",
       "      <td>24.00</td>\n",
       "      <td>14053.00</td>\n",
       "      <td>4256.00</td>\n",
       "      <td>548.00</td>\n",
       "      <td>2165.00</td>\n",
       "      <td>1659.00</td>\n",
       "      <td>1566.00</td>\n",
       "      <td>1377.00</td>\n",
       "      <td>492.00</td>\n",
       "      <td>32.00</td>\n",
       "      <td>2460.00</td>\n",
       "    </tr>\n",
       "  </tbody>\n",
       "</table>\n",
       "</div>"
      ],
      "text/plain": [
       "        AtBat    Hits   HmRun    Runs     RBI   Walks   Years    CAtBat  \\\n",
       "count  263.00  263.00  263.00  263.00  263.00  263.00  263.00    263.00   \n",
       "mean   403.64  107.83   11.62   54.75   51.49   41.11    7.31   2657.54   \n",
       "std    147.31   45.13    8.76   25.54   25.88   21.72    4.79   2286.58   \n",
       "min     19.00    1.00    0.00    0.00    0.00    0.00    1.00     19.00   \n",
       "25%    282.50   71.50    5.00   33.50   30.00   23.00    4.00    842.50   \n",
       "50%    413.00  103.00    9.00   52.00   47.00   37.00    6.00   1931.00   \n",
       "75%    526.00  141.50   18.00   73.00   71.00   57.00   10.00   3890.50   \n",
       "max    687.00  238.00   40.00  130.00  121.00  105.00   24.00  14053.00   \n",
       "\n",
       "         CHits  CHmRun    CRuns     CRBI   CWalks  PutOuts  Assists  Errors  \\\n",
       "count   263.00  263.00   263.00   263.00   263.00   263.00   263.00  263.00   \n",
       "mean    722.19   69.24   361.22   330.42   260.27   290.71   118.76    8.59   \n",
       "std     648.20   82.20   331.20   323.37   264.06   279.93   145.08    6.61   \n",
       "min       4.00    0.00     2.00     3.00     1.00     0.00     0.00    0.00   \n",
       "25%     212.00   15.00   105.50    95.00    71.00   113.50     8.00    3.00   \n",
       "50%     516.00   40.00   250.00   230.00   174.00   224.00    45.00    7.00   \n",
       "75%    1054.00   92.50   497.50   424.50   328.50   322.50   192.00   13.00   \n",
       "max    4256.00  548.00  2165.00  1659.00  1566.00  1377.00   492.00   32.00   \n",
       "\n",
       "        Salary  \n",
       "count   263.00  \n",
       "mean    535.93  \n",
       "std     451.12  \n",
       "min      67.50  \n",
       "25%     190.00  \n",
       "50%     425.00  \n",
       "75%     750.00  \n",
       "max    2460.00  "
      ]
     },
     "execution_count": 8,
     "metadata": {},
     "output_type": "execute_result"
    }
   ],
   "source": [
    "pd.set_option('precision', 2)\n",
    "playerdf.describe()"
   ]
  },
  {
   "cell_type": "code",
   "execution_count": 9,
   "metadata": {},
   "outputs": [
    {
     "data": {
      "text/plain": [
       "A    139\n",
       "N    124\n",
       "Name: League, dtype: int64"
      ]
     },
     "execution_count": 9,
     "metadata": {},
     "output_type": "execute_result"
    }
   ],
   "source": [
    "playerdf.League.value_counts()"
   ]
  },
  {
   "cell_type": "code",
   "execution_count": 10,
   "metadata": {},
   "outputs": [
    {
     "data": {
      "text/plain": [
       "W    134\n",
       "E    129\n",
       "Name: Division, dtype: int64"
      ]
     },
     "execution_count": 10,
     "metadata": {},
     "output_type": "execute_result"
    }
   ],
   "source": [
    "playerdf.Division.value_counts()"
   ]
  },
  {
   "cell_type": "code",
   "execution_count": 11,
   "metadata": {},
   "outputs": [
    {
     "data": {
      "text/plain": [
       "A    141\n",
       "N    122\n",
       "Name: NewLeague, dtype: int64"
      ]
     },
     "execution_count": 11,
     "metadata": {},
     "output_type": "execute_result"
    }
   ],
   "source": [
    "playerdf.NewLeague.value_counts()"
   ]
  },
  {
   "cell_type": "code",
   "execution_count": 12,
   "metadata": {},
   "outputs": [
    {
     "data": {
      "text/html": [
       "<div>\n",
       "<style scoped>\n",
       "    .dataframe tbody tr th:only-of-type {\n",
       "        vertical-align: middle;\n",
       "    }\n",
       "\n",
       "    .dataframe tbody tr th {\n",
       "        vertical-align: top;\n",
       "    }\n",
       "\n",
       "    .dataframe thead th {\n",
       "        text-align: right;\n",
       "    }\n",
       "</style>\n",
       "<table border=\"1\" class=\"dataframe\">\n",
       "  <thead>\n",
       "    <tr style=\"text-align: right;\">\n",
       "      <th></th>\n",
       "      <th>League_A</th>\n",
       "      <th>League_N</th>\n",
       "      <th>Division_E</th>\n",
       "      <th>Division_W</th>\n",
       "      <th>NewLeague_A</th>\n",
       "      <th>NewLeague_N</th>\n",
       "    </tr>\n",
       "  </thead>\n",
       "  <tbody>\n",
       "    <tr>\n",
       "      <th>-Alan Ashby</th>\n",
       "      <td>0</td>\n",
       "      <td>1</td>\n",
       "      <td>0</td>\n",
       "      <td>1</td>\n",
       "      <td>0</td>\n",
       "      <td>1</td>\n",
       "    </tr>\n",
       "    <tr>\n",
       "      <th>-Alvin Davis</th>\n",
       "      <td>1</td>\n",
       "      <td>0</td>\n",
       "      <td>0</td>\n",
       "      <td>1</td>\n",
       "      <td>1</td>\n",
       "      <td>0</td>\n",
       "    </tr>\n",
       "    <tr>\n",
       "      <th>-Andre Dawson</th>\n",
       "      <td>0</td>\n",
       "      <td>1</td>\n",
       "      <td>1</td>\n",
       "      <td>0</td>\n",
       "      <td>0</td>\n",
       "      <td>1</td>\n",
       "    </tr>\n",
       "  </tbody>\n",
       "</table>\n",
       "</div>"
      ],
      "text/plain": [
       "               League_A  League_N  Division_E  Division_W  NewLeague_A  \\\n",
       "-Alan Ashby           0         1           0           1            0   \n",
       "-Alvin Davis          1         0           0           1            1   \n",
       "-Andre Dawson         0         1           1           0            0   \n",
       "\n",
       "               NewLeague_N  \n",
       "-Alan Ashby              1  \n",
       "-Alvin Davis             0  \n",
       "-Andre Dawson            1  "
      ]
     },
     "execution_count": 12,
     "metadata": {},
     "output_type": "execute_result"
    }
   ],
   "source": [
    "dummyCol = pd.get_dummies(playerdf[['League', 'Division', 'NewLeague']])\n",
    "dummyCol.head(3)"
   ]
  },
  {
   "cell_type": "code",
   "execution_count": 13,
   "metadata": {},
   "outputs": [
    {
     "name": "stdout",
     "output_type": "stream",
     "text": [
      "<class 'pandas.core.frame.DataFrame'>\n",
      "Index: 263 entries, -Alan Ashby to -Willie Wilson\n",
      "Data columns (total 6 columns):\n",
      " #   Column       Non-Null Count  Dtype\n",
      "---  ------       --------------  -----\n",
      " 0   League_A     263 non-null    uint8\n",
      " 1   League_N     263 non-null    uint8\n",
      " 2   Division_E   263 non-null    uint8\n",
      " 3   Division_W   263 non-null    uint8\n",
      " 4   NewLeague_A  263 non-null    uint8\n",
      " 5   NewLeague_N  263 non-null    uint8\n",
      "dtypes: uint8(6)\n",
      "memory usage: 3.6+ KB\n"
     ]
    }
   ],
   "source": [
    "dummyCol.info()"
   ]
  },
  {
   "cell_type": "code",
   "execution_count": 14,
   "metadata": {},
   "outputs": [],
   "source": [
    "XTemp = playerdf.drop(['Salary', 'League', 'Division', 'NewLeague'], axis=1)"
   ]
  },
  {
   "cell_type": "code",
   "execution_count": 15,
   "metadata": {},
   "outputs": [],
   "source": [
    "X = pd.concat([XTemp, dummyCol[['League_N', 'Division_W', 'NewLeague_N']]], axis=1)"
   ]
  },
  {
   "cell_type": "code",
   "execution_count": 16,
   "metadata": {},
   "outputs": [
    {
     "name": "stdout",
     "output_type": "stream",
     "text": [
      "<class 'pandas.core.frame.DataFrame'>\n",
      "Index: 263 entries, -Alan Ashby to -Willie Wilson\n",
      "Data columns (total 19 columns):\n",
      " #   Column       Non-Null Count  Dtype\n",
      "---  ------       --------------  -----\n",
      " 0   AtBat        263 non-null    int64\n",
      " 1   Hits         263 non-null    int64\n",
      " 2   HmRun        263 non-null    int64\n",
      " 3   Runs         263 non-null    int64\n",
      " 4   RBI          263 non-null    int64\n",
      " 5   Walks        263 non-null    int64\n",
      " 6   Years        263 non-null    int64\n",
      " 7   CAtBat       263 non-null    int64\n",
      " 8   CHits        263 non-null    int64\n",
      " 9   CHmRun       263 non-null    int64\n",
      " 10  CRuns        263 non-null    int64\n",
      " 11  CRBI         263 non-null    int64\n",
      " 12  CWalks       263 non-null    int64\n",
      " 13  PutOuts      263 non-null    int64\n",
      " 14  Assists      263 non-null    int64\n",
      " 15  Errors       263 non-null    int64\n",
      " 16  League_N     263 non-null    uint8\n",
      " 17  Division_W   263 non-null    uint8\n",
      " 18  NewLeague_N  263 non-null    uint8\n",
      "dtypes: int64(16), uint8(3)\n",
      "memory usage: 35.7+ KB\n"
     ]
    }
   ],
   "source": [
    "X.info()"
   ]
  },
  {
   "cell_type": "code",
   "execution_count": 17,
   "metadata": {},
   "outputs": [],
   "source": [
    "y = playerdf.Salary"
   ]
  },
  {
   "cell_type": "code",
   "execution_count": 18,
   "metadata": {},
   "outputs": [
    {
     "data": {
      "text/plain": [
       "-Alan Ashby          475.0\n",
       "-Alvin Davis         480.0\n",
       "-Andre Dawson        500.0\n",
       "-Andres Galarraga     91.5\n",
       "-Alfredo Griffin     750.0\n",
       "Name: Salary, dtype: float64"
      ]
     },
     "execution_count": 18,
     "metadata": {},
     "output_type": "execute_result"
    }
   ],
   "source": [
    "y.head()"
   ]
  },
  {
   "cell_type": "code",
   "execution_count": 20,
   "metadata": {},
   "outputs": [],
   "source": [
    "alphas = 10**np.linspace(10,-2,100)*0.00001\n",
    "ridge = Ridge()"
   ]
  },
  {
   "cell_type": "code",
   "execution_count": 21,
   "metadata": {},
   "outputs": [],
   "source": [
    "coeffs = []"
   ]
  },
  {
   "cell_type": "code",
   "execution_count": 22,
   "metadata": {},
   "outputs": [],
   "source": [
    "scaler = StandardScaler()\n",
    "for a in alphas:\n",
    "    ridge.set_params(alpha=a)\n",
    "    ridge.fit(scaler.fit_transform(X), y)\n",
    "    coeffs.append(ridge.coef_)"
   ]
  },
  {
   "cell_type": "code",
   "execution_count": 23,
   "metadata": {},
   "outputs": [
    {
     "data": {
      "text/plain": [
       "(100, 19)"
      ]
     },
     "execution_count": 23,
     "metadata": {},
     "output_type": "execute_result"
    }
   ],
   "source": [
    "np.shape(coeffs)"
   ]
  },
  {
   "cell_type": "code",
   "execution_count": 25,
   "metadata": {},
   "outputs": [
    {
     "data": {
      "image/png": "[encoded data removed]",
      "text/plain": [
       "<Figure size 432x288 with 1 Axes>"
      ]
     },
     "metadata": {
      "needs_background": "light"
     },
     "output_type": "display_data"
    }
   ],
   "source": [
    "ax = plt.gca()\n",
    "ax.plot(alphas, coeffs)\n",
    "ax.set_xscale('log') \n",
    "plt.axis('tight') \n",
    "plt.xlabel('Lambda') \n",
    "plt.ylabel('Coefficients') \n",
    "plt.title('Ridge coefficients as a function of lambda(alpha)')\n",
    "plt.show()"
   ]
  },
  {
   "cell_type": "code",
   "execution_count": 34,
   "metadata": {},
   "outputs": [],
   "source": [
    "pd.set_option('precision', 6) "
   ]
  },
  {
   "cell_type": "code",
   "execution_count": 35,
   "metadata": {},
   "outputs": [],
   "source": [
    "X_train, X_test , y_train, y_test = model_selection.train_test_split(X,y, test_size=0.5, random_state=1)"
   ]
  },
  {
   "cell_type": "code",
   "execution_count": 38,
   "metadata": {},
   "outputs": [],
   "source": [
    "def Ridge_Regression(alpha):\n",
    "    scaler = StandardScaler()\n",
    "    ridge = Ridge(alpha=alpha)\n",
    "    ridge.fit(scaler.fit_transform(X_train), y_train)\n",
    "    pred = ridge.predict(scaler.fit_transform(X_test))\n",
    "    print(pd.Series(ridge.coef_, index=X.columns))\n",
    "    print('Mean Squared Error: ',mean_squared_error(y_test, pred))"
   ]
  },
  {
   "cell_type": "code",
   "execution_count": 39,
   "metadata": {},
   "outputs": [
    {
     "name": "stdout",
     "output_type": "stream",
     "text": [
      "AtBat          -266.553048\n",
      "Hits            197.706218\n",
      "HmRun           -38.103182\n",
      "Runs             -1.007996\n",
      "RBI             103.119845\n",
      "Walks            79.750209\n",
      "Years            45.357697\n",
      "CAtBat        -1399.811384\n",
      "CHits          1426.954812\n",
      "CHmRun          264.037977\n",
      "CRuns            86.858781\n",
      "CRBI           -211.142393\n",
      "CWalks           42.533597\n",
      "PutOuts         126.075563\n",
      "Assists          65.816094\n",
      "Errors          -38.313885\n",
      "League_N         66.822855\n",
      "Division_W      -56.870280\n",
      "NewLeague_N     -40.962688\n",
      "dtype: float64\n",
      "Mean Squared Error:  117301.05503373897\n"
     ]
    }
   ],
   "source": [
    "Ridge_Regression(0)"
   ]
  },
  {
   "cell_type": "code",
   "execution_count": 40,
   "metadata": {},
   "outputs": [
    {
     "name": "stdout",
     "output_type": "stream",
     "text": [
      "AtBat         -210.807322\n",
      "Hits           193.076932\n",
      "HmRun          -51.437368\n",
      "Runs             1.624070\n",
      "RBI             81.458917\n",
      "Walks           94.582539\n",
      "Years          -28.029476\n",
      "CAtBat        -117.924364\n",
      "CHits           91.159632\n",
      "CHmRun          91.762010\n",
      "CRuns          101.115450\n",
      "CRBI           117.598963\n",
      "CWalks         -38.434685\n",
      "PutOuts        125.556071\n",
      "Assists         25.559188\n",
      "Errors         -18.518904\n",
      "League_N        35.792050\n",
      "Division_W     -60.245442\n",
      "NewLeague_N    -18.650623\n",
      "dtype: float64\n",
      "Mean Squared Error:  104835.06228323371\n"
     ]
    }
   ],
   "source": [
    "Ridge_Regression(4)"
   ]
  },
  {
   "cell_type": "code",
   "execution_count": 41,
   "metadata": {},
   "outputs": [
    {
     "name": "stdout",
     "output_type": "stream",
     "text": [
      "AtBat           3.911359\n",
      "Hits           36.096360\n",
      "HmRun           1.736680\n",
      "Runs           19.611659\n",
      "RBI            32.219132\n",
      "Walks          43.972410\n",
      "Years           8.496447\n",
      "CAtBat         17.992839\n",
      "CHits          32.545056\n",
      "CHmRun         41.512925\n",
      "CRuns          33.271936\n",
      "CRBI           41.571334\n",
      "CWalks         25.535833\n",
      "PutOuts        75.761366\n",
      "Assists        -2.475953\n",
      "Errors         -0.792667\n",
      "League_N        8.214298\n",
      "Division_W    -41.608368\n",
      "NewLeague_N     5.211955\n",
      "dtype: float64\n",
      "Mean Squared Error:  100357.25470322548\n"
     ]
    }
   ],
   "source": [
    "Ridge_Regression(100)"
   ]
  },
  {
   "cell_type": "code",
   "execution_count": 42,
   "metadata": {},
   "outputs": [
    {
     "name": "stdout",
     "output_type": "stream",
     "text": [
      "AtBat          2.526133e-06\n",
      "Hits           2.826091e-06\n",
      "HmRun          2.174902e-06\n",
      "Runs           2.632138e-06\n",
      "RBI            3.183658e-06\n",
      "Walks          2.941154e-06\n",
      "Years          2.478179e-06\n",
      "CAtBat         3.213788e-06\n",
      "CHits          3.432349e-06\n",
      "CHmRun         3.435819e-06\n",
      "CRuns          3.522298e-06\n",
      "CRBI           3.602930e-06\n",
      "CWalks         3.216811e-06\n",
      "PutOuts        2.851209e-06\n",
      "Assists       -4.856786e-08\n",
      "Errors         1.736624e-07\n",
      "League_N      -1.637144e-07\n",
      "Division_W    -1.015188e-06\n",
      "NewLeague_N   -1.325154e-07\n",
      "dtype: float64\n",
      "Mean Squared Error:  172862.2200557664\n"
     ]
    }
   ],
   "source": [
    "Ridge_Regression(10**10)"
   ]
  },
  {
   "cell_type": "code",
   "execution_count": 43,
   "metadata": {},
   "outputs": [],
   "source": [
    "scaler = StandardScaler()"
   ]
  },
  {
   "cell_type": "code",
   "execution_count": 44,
   "metadata": {},
   "outputs": [],
   "source": [
    " ridgecv = RidgeCV(alphas=alphas)"
   ]
  },
  {
   "cell_type": "code",
   "execution_count": 45,
   "metadata": {},
   "outputs": [
    {
     "data": {
      "text/plain": [
       "RidgeCV(alphas=array([1.00000000e+05, 7.56463328e+04, 5.72236766e+04, 4.32876128e+04,\n",
       "       3.27454916e+04, 2.47707636e+04, 1.87381742e+04, 1.41747416e+04,\n",
       "       1.07226722e+04, 8.11130831e+03, 6.13590727e+03, 4.64158883e+03,\n",
       "       3.51119173e+03, 2.65608778e+03, 2.00923300e+03, 1.51991108e+03,\n",
       "       1.14975700e+03, 8.69749003e+02, 6.57933225e+02, 4.97702356e+02,\n",
       "       3.76493581e+02, 2.84803587e+0...\n",
       "       6.13590727e-05, 4.64158883e-05, 3.51119173e-05, 2.65608778e-05,\n",
       "       2.00923300e-05, 1.51991108e-05, 1.14975700e-05, 8.69749003e-06,\n",
       "       6.57933225e-06, 4.97702356e-06, 3.76493581e-06, 2.84803587e-06,\n",
       "       2.15443469e-06, 1.62975083e-06, 1.23284674e-06, 9.32603347e-07,\n",
       "       7.05480231e-07, 5.33669923e-07, 4.03701726e-07, 3.05385551e-07,\n",
       "       2.31012970e-07, 1.74752840e-07, 1.32194115e-07, 1.00000000e-07]))"
      ]
     },
     "execution_count": 45,
     "metadata": {},
     "output_type": "execute_result"
    }
   ],
   "source": [
    "ridgecv.fit(scaler.fit_transform(X_train), y_train)"
   ]
  },
  {
   "cell_type": "code",
   "execution_count": 46,
   "metadata": {},
   "outputs": [
    {
     "data": {
      "text/plain": [
       "70.54802310718645"
      ]
     },
     "execution_count": 46,
     "metadata": {},
     "output_type": "execute_result"
    }
   ],
   "source": [
    "ridgecv.alpha_ "
   ]
  },
  {
   "cell_type": "code",
   "execution_count": 47,
   "metadata": {},
   "outputs": [
    {
     "data": {
      "text/plain": [
       "93.26033468832199"
      ]
     },
     "execution_count": 47,
     "metadata": {},
     "output_type": "execute_result"
    }
   ],
   "source": [
    "scaler = StandardScaler()\n",
    "ridgecv = RidgeCV(alphas=alphas, cv=5)\n",
    "ridgecv.fit(scaler.fit_transform(X_train), y_train)\n",
    "ridgecv.alpha_"
   ]
  },
  {
   "cell_type": "code",
   "execution_count": 48,
   "metadata": {},
   "outputs": [
    {
     "data": {
      "text/plain": [
       "215.44346900318826"
      ]
     },
     "execution_count": 48,
     "metadata": {},
     "output_type": "execute_result"
    }
   ],
   "source": [
    "scaler = StandardScaler()\n",
    "ridgecv = RidgeCV(alphas=alphas, cv=10)\n",
    "ridgecv.fit(scaler.fit_transform(X_train), y_train)\n",
    "ridgecv.alpha_"
   ]
  },
  {
   "cell_type": "code",
   "execution_count": 49,
   "metadata": {},
   "outputs": [
    {
     "data": {
      "text/plain": [
       "99927.59735966551"
      ]
     },
     "execution_count": 49,
     "metadata": {},
     "output_type": "execute_result"
    }
   ],
   "source": [
    "scaler = StandardScaler()\n",
    "opt_ridge = Ridge(alpha=ridgecv.alpha_) \n",
    "opt_ridge.fit(scaler.fit_transform(X_train), y_train) \n",
    "pred = opt_ridge.predict(scaler.fit_transform(X_test))\n",
    "mean_squared_error(y_test, pred)"
   ]
  },
  {
   "cell_type": "code",
   "execution_count": 50,
   "metadata": {},
   "outputs": [
    {
     "data": {
      "text/plain": [
       "AtBat          -2.131693\n",
       "Hits            7.609983\n",
       "HmRun           2.357328\n",
       "Runs           -1.956615\n",
       "RBI            -0.149830\n",
       "Walks           6.049360\n",
       "Years          -1.913856\n",
       "CAtBat         -0.181229\n",
       "CHits           0.103239\n",
       "CHmRun         -0.176791\n",
       "CRuns           1.565492\n",
       "CRBI            0.788984\n",
       "CWalks         -0.787067\n",
       "PutOuts         0.291609\n",
       "Assists         0.379783\n",
       "Errors         -2.890302\n",
       "League_N        8.754551\n",
       "Division_W    -26.039641\n",
       "NewLeague_N     5.471489\n",
       "dtype: float64"
      ]
     },
     "execution_count": 50,
     "metadata": {},
     "output_type": "execute_result"
    }
   ],
   "source": [
    "opt_ridge.fit(X, y)\n",
    "pd.Series(opt_ridge.coef_, index=X.columns)"
   ]
  },
  {
   "cell_type": "code",
   "execution_count": 51,
   "metadata": {},
   "outputs": [],
   "source": [
    "lasso = Lasso(max_iter=100000)\n",
    "coefs = []\n",
    "scaler = StandardScaler()"
   ]
  },
  {
   "cell_type": "code",
   "execution_count": 52,
   "metadata": {},
   "outputs": [],
   "source": [
    "for a in alphas: \n",
    "    lasso.set_params(alpha=a) \n",
    "    lasso.fit(scaler.fit_transform(X_train), y_train) \n",
    "    coefs.append(lasso.coef_)"
   ]
  },
  {
   "cell_type": "code",
   "execution_count": 53,
   "metadata": {},
   "outputs": [
    {
     "data": {
      "image/png": "[encoded data removed]",
      "text/plain": [
       "<Figure size 432x288 with 1 Axes>"
      ]
     },
     "metadata": {
      "needs_background": "light"
     },
     "output_type": "display_data"
    }
   ],
   "source": [
    "ax = plt.gca() \n",
    "ax.plot(alphas*2, coefs) \n",
    "ax.set_xscale('log') \n",
    "plt.axis('tight') \n",
    "plt.xlabel('Lambda') \n",
    "plt.ylabel('Coefficients') \n",
    "plt.title('Lasso coefficients as a function of lambda(alpha)'); \n",
    "plt.show()\n"
   ]
  },
  {
   "cell_type": "code",
   "execution_count": 54,
   "metadata": {},
   "outputs": [],
   "source": [
    "lassocv = LassoCV(alphas=None, cv=10, max_iter=100000)"
   ]
  },
  {
   "cell_type": "code",
   "execution_count": 55,
   "metadata": {},
   "outputs": [
    {
     "data": {
      "text/plain": [
       "LassoCV(cv=10, max_iter=100000)"
      ]
     },
     "execution_count": 55,
     "metadata": {},
     "output_type": "execute_result"
    }
   ],
   "source": [
    "lassocv.fit(scaler.fit_transform(X_train), y_train)"
   ]
  },
  {
   "cell_type": "code",
   "execution_count": 56,
   "metadata": {},
   "outputs": [
    {
     "data": {
      "text/plain": [
       "27.503283261878394"
      ]
     },
     "execution_count": 56,
     "metadata": {},
     "output_type": "execute_result"
    }
   ],
   "source": [
    "lassocv.alpha_ "
   ]
  },
  {
   "cell_type": "code",
   "execution_count": 57,
   "metadata": {},
   "outputs": [
    {
     "data": {
      "text/plain": [
       "Lasso(alpha=27.503283261878394, max_iter=100000)"
      ]
     },
     "execution_count": 57,
     "metadata": {},
     "output_type": "execute_result"
    }
   ],
   "source": [
    "lasso.set_params(alpha=lassocv.alpha_)"
   ]
  },
  {
   "cell_type": "code",
   "execution_count": 58,
   "metadata": {},
   "outputs": [
    {
     "data": {
      "text/plain": [
       "Lasso(alpha=27.503283261878394, max_iter=100000)"
      ]
     },
     "execution_count": 58,
     "metadata": {},
     "output_type": "execute_result"
    }
   ],
   "source": [
    "lasso.fit(scaler.fit_transform(X_train), y_train)"
   ]
  },
  {
   "cell_type": "code",
   "execution_count": 59,
   "metadata": {},
   "outputs": [
    {
     "data": {
      "text/plain": [
       "106183.71692611946"
      ]
     },
     "execution_count": 59,
     "metadata": {},
     "output_type": "execute_result"
    }
   ],
   "source": [
    "mean_squared_error(y_test, lasso.predict(scaler.fit_transform(X_test)))"
   ]
  },
  {
   "cell_type": "code",
   "execution_count": 60,
   "metadata": {},
   "outputs": [
    {
     "data": {
      "text/plain": [
       "AtBat            0.000000\n",
       "Hits            50.246197\n",
       "HmRun            0.000000\n",
       "Runs             0.000000\n",
       "RBI              0.000000\n",
       "Walks           66.794424\n",
       "Years            0.000000\n",
       "CAtBat           0.000000\n",
       "CHits            0.000000\n",
       "CHmRun          19.441152\n",
       "CRuns            0.000000\n",
       "CRBI           181.336557\n",
       "CWalks           0.000000\n",
       "PutOuts        110.307327\n",
       "Assists         -0.000000\n",
       "Errors          -0.000000\n",
       "League_N         0.000000\n",
       "Division_W     -44.530872\n",
       "NewLeague_N      0.000000\n",
       "dtype: float64"
      ]
     },
     "execution_count": 60,
     "metadata": {},
     "output_type": "execute_result"
    }
   ],
   "source": [
    "pd.Series(lasso.coef_, index=X.columns)"
   ]
  },
  {
   "cell_type": "code",
   "execution_count": 61,
   "metadata": {},
   "outputs": [
    {
     "data": {
      "text/plain": [
       "Hits           50.246197\n",
       "Walks          66.794424\n",
       "CHmRun         19.441152\n",
       "CRBI          181.336557\n",
       "PutOuts       110.307327\n",
       "Division_W    -44.530872\n",
       "dtype: float64"
      ]
     },
     "execution_count": 61,
     "metadata": {},
     "output_type": "execute_result"
    }
   ],
   "source": [
    "pd.Series(lasso.coef_[lasso.coef_ !=0], index=X.columns[lasso.coef_ !=0])"
   ]
  },
  {
   "cell_type": "code",
   "execution_count": 62,
   "metadata": {},
   "outputs": [],
   "source": [
    "from sklearn.preprocessing import scale\n",
    "from sklearn.decomposition import PCA \n",
    "from sklearn.model_selection import KFold, cross_val_score\n",
    "from sklearn.linear_model import LinearRegression\n",
    "from sklearn.metrics import mean_squared_error"
   ]
  },
  {
   "cell_type": "code",
   "execution_count": 63,
   "metadata": {},
   "outputs": [],
   "source": [
    "pca = PCA()"
   ]
  },
  {
   "cell_type": "code",
   "execution_count": 64,
   "metadata": {},
   "outputs": [
    {
     "name": "stdout",
     "output_type": "stream",
     "text": [
      "(19, 19)\n"
     ]
    }
   ],
   "source": [
    "X_pca_reduced = pca.fit_transform(scale(X))\n",
    "print(pca.components_.shape)"
   ]
  },
  {
   "cell_type": "code",
   "execution_count": 65,
   "metadata": {},
   "outputs": [
    {
     "data": {
      "text/html": [
       "<div>\n",
       "<style scoped>\n",
       "    .dataframe tbody tr th:only-of-type {\n",
       "        vertical-align: middle;\n",
       "    }\n",
       "\n",
       "    .dataframe tbody tr th {\n",
       "        vertical-align: top;\n",
       "    }\n",
       "\n",
       "    .dataframe thead th {\n",
       "        text-align: right;\n",
       "    }\n",
       "</style>\n",
       "<table border=\"1\" class=\"dataframe\">\n",
       "  <thead>\n",
       "    <tr style=\"text-align: right;\">\n",
       "      <th></th>\n",
       "      <th>0</th>\n",
       "      <th>1</th>\n",
       "      <th>2</th>\n",
       "      <th>3</th>\n",
       "      <th>4</th>\n",
       "    </tr>\n",
       "  </thead>\n",
       "  <tbody>\n",
       "    <tr>\n",
       "      <th>0</th>\n",
       "      <td>0.198290</td>\n",
       "      <td>-0.383784</td>\n",
       "      <td>0.088626</td>\n",
       "      <td>0.031967</td>\n",
       "      <td>0.028117</td>\n",
       "    </tr>\n",
       "    <tr>\n",
       "      <th>1</th>\n",
       "      <td>0.195861</td>\n",
       "      <td>-0.377271</td>\n",
       "      <td>0.074032</td>\n",
       "      <td>0.017982</td>\n",
       "      <td>-0.004652</td>\n",
       "    </tr>\n",
       "    <tr>\n",
       "      <th>2</th>\n",
       "      <td>0.204369</td>\n",
       "      <td>-0.237136</td>\n",
       "      <td>-0.216186</td>\n",
       "      <td>-0.235831</td>\n",
       "      <td>0.077660</td>\n",
       "    </tr>\n",
       "    <tr>\n",
       "      <th>3</th>\n",
       "      <td>0.198337</td>\n",
       "      <td>-0.377721</td>\n",
       "      <td>-0.017166</td>\n",
       "      <td>-0.049942</td>\n",
       "      <td>-0.038536</td>\n",
       "    </tr>\n",
       "    <tr>\n",
       "      <th>4</th>\n",
       "      <td>0.235174</td>\n",
       "      <td>-0.314531</td>\n",
       "      <td>-0.073085</td>\n",
       "      <td>-0.138985</td>\n",
       "      <td>0.024299</td>\n",
       "    </tr>\n",
       "  </tbody>\n",
       "</table>\n",
       "</div>"
      ],
      "text/plain": [
       "          0         1         2         3         4\n",
       "0  0.198290 -0.383784  0.088626  0.031967  0.028117\n",
       "1  0.195861 -0.377271  0.074032  0.017982 -0.004652\n",
       "2  0.204369 -0.237136 -0.216186 -0.235831  0.077660\n",
       "3  0.198337 -0.377721 -0.017166 -0.049942 -0.038536\n",
       "4  0.235174 -0.314531 -0.073085 -0.138985  0.024299"
      ]
     },
     "execution_count": 65,
     "metadata": {},
     "output_type": "execute_result"
    }
   ],
   "source": [
    "pd.DataFrame(pca.components_.T).loc[:4,:4]"
   ]
  },
  {
   "cell_type": "code",
   "execution_count": 66,
   "metadata": {},
   "outputs": [
    {
     "data": {
      "text/plain": [
       "array([38.31, 60.15, 70.84, 79.03, 84.29, 88.63, 92.26, 94.96, 96.28,\n",
       "       97.25, 97.97, 98.64, 99.14, 99.46, 99.73, 99.88, 99.95, 99.98,\n",
       "       99.99])"
      ]
     },
     "execution_count": 66,
     "metadata": {},
     "output_type": "execute_result"
    }
   ],
   "source": [
    "np.cumsum(np.round(pca.explained_variance_ratio_, decimals=4)*100)"
   ]
  },
  {
   "cell_type": "code",
   "execution_count": 67,
   "metadata": {},
   "outputs": [],
   "source": [
    "pca_t = PCA()\n",
    "X_train_reduced_pca = pca_t.fit_transform(scale(X_train))\n",
    "n= len(X_train_reduced_pca)\n",
    "kfold10 = KFold(n_splits=10)\n",
    "lm_regr = LinearRegression()\n",
    "mse = []"
   ]
  },
  {
   "cell_type": "code",
   "execution_count": 68,
   "metadata": {},
   "outputs": [],
   "source": [
    "tr_score = -1*cross_val_score(lm_regr, np.ones((n,1)),y_train, cv=kfold10,scoring='neg_mean_squared_error').mean()"
   ]
  },
  {
   "cell_type": "code",
   "execution_count": 69,
   "metadata": {},
   "outputs": [],
   "source": [
    "mse.append(tr_score)"
   ]
  },
  {
   "cell_type": "code",
   "execution_count": 70,
   "metadata": {},
   "outputs": [],
   "source": [
    "for i in np.arange(1, 20):\n",
    "    tr_score = -1*cross_val_score(lm_regr, X_train_reduced_pca[:,:i], y_train, cv=kfold10, scoring='neg_mean_squared_error').mean()\n",
    "    mse.append(tr_score)"
   ]
  },
  {
   "cell_type": "code",
   "execution_count": 71,
   "metadata": {},
   "outputs": [
    {
     "data": {
      "text/plain": [
       "[]"
      ]
     },
     "execution_count": 71,
     "metadata": {},
     "output_type": "execute_result"
    },
    {
     "data": {
      "image/png": "[encoded data removed]",
      "text/plain": [
       "<Figure size 432x288 with 1 Axes>"
      ]
     },
     "metadata": {
      "needs_background": "light"
     },
     "output_type": "display_data"
    }
   ],
   "source": [
    "plt.plot(mse, '-v') \n",
    "plt.xlabel('Number of principal components in regression') \n",
    "plt.ylabel('MSE') \n",
    "plt.title('Player Salary') \n",
    "plt.xlim(xmin=-1); \n",
    "plt.plot()"
   ]
  },
  {
   "cell_type": "code",
   "execution_count": 72,
   "metadata": {},
   "outputs": [
    {
     "data": {
      "text/plain": [
       "1     235406.619100\n",
       "2     144310.329851\n",
       "3     141961.097915\n",
       "4     142493.549431\n",
       "5     143287.577720\n",
       "6     134376.466736\n",
       "7     129143.405002\n",
       "8     131571.376294\n",
       "9     135335.186049\n",
       "10    138904.079492\n",
       "11    149674.333623\n",
       "12    150179.569822\n",
       "13    152739.781510\n",
       "14    154371.214873\n",
       "15    164099.596798\n",
       "16    154067.909113\n",
       "17    147843.866699\n",
       "18    154154.156968\n",
       "19    148268.507015\n",
       "20    150176.362589\n",
       "dtype: float64"
      ]
     },
     "execution_count": 72,
     "metadata": {},
     "output_type": "execute_result"
    }
   ],
   "source": [
    "mse_each_comp=pd.Series(np.array(mse).flatten(), index = np.arange(1,21)) \n",
    "mse_each_comp"
   ]
  },
  {
   "cell_type": "code",
   "execution_count": null,
   "metadata": {},
   "outputs": [],
   "source": []
  }
 ],
 "metadata": {
  "kernelspec": {
   "display_name": "Python 3",
   "language": "python",
   "name": "python3"
  },
  "language_info": {
   "codemirror_mode": {
    "name": "ipython",
    "version": 3
   },
   "file_extension": ".py",
   "mimetype": "text/x-python",
   "name": "python",
   "nbconvert_exporter": "python",
   "pygments_lexer": "ipython3",
   "version": "3.8.5"
  }
 },
 "nbformat": 4,
 "nbformat_minor": 4
}
